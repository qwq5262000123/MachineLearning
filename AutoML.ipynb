from sklearn import svm, datasets
from sklearn.model_selection import GridSearchCV
# 載入鳶尾花朵資料集
iris = datasets.load_iris()
# 設定想要的搜索參數並給予候選值
parameters = {'kernel':('linear', 'rbf'), 'C':[1, 10]}
# 建立 SVC 分類器
svc = svm.SVC()
# 網格搜索所有可能的組合(2*2)共四種
clf = GridSearchCV(svc, parameters)
# 擬合數據並回傳最佳模型
clf.fit(iris.data, iris.target)
GridSearchCV(estimator=SVC(),
             param_grid={'C': [1, 10], 'kernel': ('linear', 'rbf')})
from sklearn.linear_model import LogisticRegression
from sklearn.model_selection import RandomizedSearchCV
from scipy.stats import uniform
# 載入鳶尾花朵資料集
# 建立邏輯迴歸模型
logistic = LogisticRegression(solver='saga', tol=1e-2, max_iter=200, random_state=0)
# 設定欲搜尋的超參數並給予一個期望的範圍
distributions = dict(C=uniform(loc=0, scale=4),
                     penalty=['l2', 'l1'])
# 隨機搜索預設 n_iter=10
clf = RandomizedSearchCV(logistic, distributions, random_state=0, n_iter=10)
# 擬合數據並回傳最佳模型
search = clf.fit(iris.data, iris.target)
search.best_params_
search.cv_results_
{'mean_fit_time': array([0.00434866, 0.00311441, 0.00276923, 0.00233245, 0.00225201,
        0.0017705 , 0.0023242 , 0.0022964 , 0.00338011, 0.00245452]),
 'std_fit_time': array([1.80854115e-03, 2.84179561e-04, 1.38736179e-04, 6.65890756e-05,
        5.14945718e-05, 5.23270938e-05, 1.25490876e-04, 5.75073125e-05,
        5.01214817e-04, 1.64044457e-04]),
 'mean_score_time': array([0.00037827, 0.00035338, 0.00028529, 0.00026593, 0.00027466,
        0.00026622, 0.000284  , 0.000281  , 0.00033112, 0.00027614]),
 'std_score_time': array([1.05394345e-04, 9.04277889e-05, 1.63497442e-05, 9.55056143e-06,
        6.92153404e-06, 8.52005397e-06, 6.35357556e-06, 2.31546546e-05,
        6.10611160e-05, 8.98986647e-06]),
 'param_C': masked_array(data=[2.195254015709299, 3.3770629943240693,
                    2.1795327319875875, 2.4942547871438894,
                    1.75034884505077, 0.22685190926977272,
                    1.5337660753031108, 3.2486749151019727,
                    2.2721782443757292, 3.34431505414951],
              mask=[False, False, False, False, False, False, False, False,
                    False, False],
        fill_value='?',
             dtype=object),
 'param_penalty': masked_array(data=['l1', 'l1', 'l1', 'l2', 'l2', 'l2', 'l2', 'l2', 'l1',
                    'l2'],
              mask=[False, False, False, False, False, False, False, False,
                    False, False],
        fill_value='?',
             dtype=object),
 'params': [{'C': 2.195254015709299, 'penalty': 'l1'},
  {'C': 3.3770629943240693, 'penalty': 'l1'},
  {'C': 2.1795327319875875, 'penalty': 'l1'},
  {'C': 2.4942547871438894, 'penalty': 'l2'},
  {'C': 1.75034884505077, 'penalty': 'l2'},
  {'C': 0.22685190926977272, 'penalty': 'l2'},
  {'C': 1.5337660753031108, 'penalty': 'l2'},
  {'C': 3.2486749151019727, 'penalty': 'l2'},
  {'C': 2.2721782443757292, 'penalty': 'l1'},
  {'C': 3.34431505414951, 'penalty': 'l2'}],
 'split0_test_score': array([1., 1., 1., 1., 1., 1., 1., 1., 1., 1.]),
 'split1_test_score': array([1.        , 1.        , 1.        , 1.        , 1.        ,
        0.96666667, 1.        , 1.        , 1.        , 1.        ]),
 'split2_test_score': array([0.96666667, 0.96666667, 0.96666667, 0.96666667, 0.96666667,
        0.93333333, 0.96666667, 0.96666667, 0.96666667, 0.96666667]),
 'split3_test_score': array([0.93333333, 0.93333333, 0.93333333, 0.93333333, 0.93333333,
        0.93333333, 0.93333333, 0.93333333, 0.93333333, 0.93333333]),
 'split4_test_score': array([1., 1., 1., 1., 1., 1., 1., 1., 1., 1.]),
 'mean_test_score': array([0.98      , 0.98      , 0.98      , 0.98      , 0.98      ,
        0.96666667, 0.98      , 0.98      , 0.98      , 0.98      ]),
 'std_test_score': array([0.02666667, 0.02666667, 0.02666667, 0.02666667, 0.02666667,
        0.02981424, 0.02666667, 0.02666667, 0.02666667, 0.02666667]),
 'rank_test_score': array([ 1,  1,  1,  1,  1, 10,  1,  1,  1,  1], dtype=int32)}
