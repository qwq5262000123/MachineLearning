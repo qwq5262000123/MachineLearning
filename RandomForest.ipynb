{
  "cells": [
    {
      "cell_type": "code",
      "source": [
        "from sklearn.ensemble import RandomForestClassifier\n",
        "from sklearn.datasets import load_iris\n",
        "from sklearn.model_selection import train_test_split\n",
        "\n",
        "# 讀入鳶尾花資料\n",
        "iris = load_iris()\n",
        "iris_data = iris.data\n",
        "iris_label = iris.target\n",
        "\n",
        "# 切分訓練與測試資料\n",
        "train_data, test_data, train_label, test_label = train_test_split(iris_data, iris_label, test_size = 0.3)\n",
        "\n",
        "# 建立分類器\n",
        "clf = RandomForestClassifier(n_estimators=30, max_depth=4)\n",
        "iris_clf = clf.fit(train_data, train_label)\n",
        "print(\"訓練資料正確率:\",clf.score(train_data,train_label)) # 訓練資料正確率\n",
        "print(\"測試資料正確率:\",clf.score(test_data, test_label)) # 測試資料正確率\n",
        "\n",
        "predict=clf.predict(test_data) # 預測\n",
        "print(\"標準答案:\",test_label) # 標準答案\n",
        "print(\"預測答案:\",predict) # 預測答案"
      ],
      "metadata": {
        "id": "U7n7ocNHvvqH",
        "outputId": "f41e0b89-0ce3-4da7-9314-73f4e96e96e5",
        "colab": {
          "base_uri": "https://localhost:8080/"
        }
      },
      "execution_count": 4,
      "outputs": [
        {
          "output_type": "stream",
          "name": "stdout",
          "text": [
            "訓練資料正確率: 0.9809523809523809\n",
            "測試資料正確率: 0.9777777777777777\n",
            "標準答案: [2 2 1 1 2 2 2 0 1 2 0 1 1 1 0 2 2 0 0 1 1 0 2 0 2 0 2 2 0 1 1 0 2 2 0 0 2\n",
            " 1 2 1 2 1 2 1 2]\n",
            "預測答案: [2 2 1 1 2 2 2 0 1 2 0 1 1 1 0 2 2 0 0 1 1 0 2 0 2 0 2 2 0 1 1 0 2 2 0 0 2\n",
            " 1 2 2 2 1 2 1 2]\n"
          ]
        }
      ]
    }
  ],
  "metadata": {
    "colab": {
      "name": "Welcome To Colab",
      "toc_visible": true,
      "provenance": []
    },
    "kernelspec": {
      "display_name": "Python 3",
      "name": "python3"
    }
  },
  "nbformat": 4,
  "nbformat_minor": 0
}